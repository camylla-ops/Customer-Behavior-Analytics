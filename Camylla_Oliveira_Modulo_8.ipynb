{
  "cells": [
    {
      "cell_type": "markdown",
      "metadata": {
        "id": "view-in-github",
        "colab_type": "text"
      },
      "source": [
        "<a href=\"https://colab.research.google.com/github/camylla-ops/Customer-Behavior-Analytics/blob/main/Camylla_Oliveira_Modulo_8.ipynb\" target=\"_parent\"><img src=\"https://colab.research.google.com/assets/colab-badge.svg\" alt=\"Open In Colab\"/></a>"
      ]
    },
    {
      "cell_type": "markdown",
      "id": "c4e43d21-160f-49ea-af2c-d4f1a82c152d",
      "metadata": {
        "id": "c4e43d21-160f-49ea-af2c-d4f1a82c152d"
      },
      "source": [
        "## Módulo 8: Projeto Final\n",
        "\n",
        "Integrando conhecimentos adquiridos no curso."
      ]
    },
    {
      "cell_type": "markdown",
      "id": "a58a938c-60e8-41fd-8d2f-5c6e453794d6",
      "metadata": {
        "id": "a58a938c-60e8-41fd-8d2f-5c6e453794d6"
      },
      "source": [
        "##### Este código inclui a leitura de um arquivo CSV, visualização de dados e algumas operações básicas de análise, como média e correlação.\n"
      ]
    },
    {
      "cell_type": "code",
      "execution_count": null,
      "id": "c7245c60-1be1-4200-89e4-fdec33a8558c",
      "metadata": {
        "id": "c7245c60-1be1-4200-89e4-fdec33a8558c"
      },
      "outputs": [],
      "source": [
        "import pandas as pd\n",
        "import matplotlib.pyplot as plt\n",
        "\n",
        "# Carregar os dados\n",
        "arquivo_csv = 'Camylla Oliveira - dados_projeto_final.csv'  # Substitua pelo caminho do seu arquivo CSV\n",
        "dados = pd.read_csv(arquivo_csv)\n",
        "\n"
      ]
    },
    {
      "cell_type": "code",
      "source": [
        "# Exibir as primeiras linhas dos dados para revisão\n",
        "dados.head()"
      ],
      "metadata": {
        "colab": {
          "base_uri": "https://localhost:8080/",
          "height": 206
        },
        "id": "sxD_Sh3r54L7",
        "outputId": "9d9a4fbb-e79c-47b4-d487-5cd39d28175e"
      },
      "id": "sxD_Sh3r54L7",
      "execution_count": null,
      "outputs": [
        {
          "output_type": "execute_result",
          "data": {
            "text/plain": [
              "   ID      Nome  Idade    Gênero          Cidade  Renda Mensal  \\\n",
              "0   1  Pessoa_1     56  Feminino        Curitiba          2163   \n",
              "1   2  Pessoa_2     46  Feminino  Belo Horizonte          3498   \n",
              "2   3  Pessoa_3     32  Feminino  Belo Horizonte          9494   \n",
              "3   4  Pessoa_4     60  Feminino       São Paulo          2995   \n",
              "4   5  Pessoa_5     25  Feminino  Belo Horizonte          4804   \n",
              "\n",
              "   Número de Compras Online  Satisfação do Cliente (1-10)  \n",
              "0                        24                             9  \n",
              "1                        17                             4  \n",
              "2                        22                             1  \n",
              "3                        29                             4  \n",
              "4                         9                             1  "
            ],
            "text/html": [
              "\n",
              "  <div id=\"df-296e408f-3db8-4ef4-be09-e67e4726844c\" class=\"colab-df-container\">\n",
              "    <div>\n",
              "<style scoped>\n",
              "    .dataframe tbody tr th:only-of-type {\n",
              "        vertical-align: middle;\n",
              "    }\n",
              "\n",
              "    .dataframe tbody tr th {\n",
              "        vertical-align: top;\n",
              "    }\n",
              "\n",
              "    .dataframe thead th {\n",
              "        text-align: right;\n",
              "    }\n",
              "</style>\n",
              "<table border=\"1\" class=\"dataframe\">\n",
              "  <thead>\n",
              "    <tr style=\"text-align: right;\">\n",
              "      <th></th>\n",
              "      <th>ID</th>\n",
              "      <th>Nome</th>\n",
              "      <th>Idade</th>\n",
              "      <th>Gênero</th>\n",
              "      <th>Cidade</th>\n",
              "      <th>Renda Mensal</th>\n",
              "      <th>Número de Compras Online</th>\n",
              "      <th>Satisfação do Cliente (1-10)</th>\n",
              "    </tr>\n",
              "  </thead>\n",
              "  <tbody>\n",
              "    <tr>\n",
              "      <th>0</th>\n",
              "      <td>1</td>\n",
              "      <td>Pessoa_1</td>\n",
              "      <td>56</td>\n",
              "      <td>Feminino</td>\n",
              "      <td>Curitiba</td>\n",
              "      <td>2163</td>\n",
              "      <td>24</td>\n",
              "      <td>9</td>\n",
              "    </tr>\n",
              "    <tr>\n",
              "      <th>1</th>\n",
              "      <td>2</td>\n",
              "      <td>Pessoa_2</td>\n",
              "      <td>46</td>\n",
              "      <td>Feminino</td>\n",
              "      <td>Belo Horizonte</td>\n",
              "      <td>3498</td>\n",
              "      <td>17</td>\n",
              "      <td>4</td>\n",
              "    </tr>\n",
              "    <tr>\n",
              "      <th>2</th>\n",
              "      <td>3</td>\n",
              "      <td>Pessoa_3</td>\n",
              "      <td>32</td>\n",
              "      <td>Feminino</td>\n",
              "      <td>Belo Horizonte</td>\n",
              "      <td>9494</td>\n",
              "      <td>22</td>\n",
              "      <td>1</td>\n",
              "    </tr>\n",
              "    <tr>\n",
              "      <th>3</th>\n",
              "      <td>4</td>\n",
              "      <td>Pessoa_4</td>\n",
              "      <td>60</td>\n",
              "      <td>Feminino</td>\n",
              "      <td>São Paulo</td>\n",
              "      <td>2995</td>\n",
              "      <td>29</td>\n",
              "      <td>4</td>\n",
              "    </tr>\n",
              "    <tr>\n",
              "      <th>4</th>\n",
              "      <td>5</td>\n",
              "      <td>Pessoa_5</td>\n",
              "      <td>25</td>\n",
              "      <td>Feminino</td>\n",
              "      <td>Belo Horizonte</td>\n",
              "      <td>4804</td>\n",
              "      <td>9</td>\n",
              "      <td>1</td>\n",
              "    </tr>\n",
              "  </tbody>\n",
              "</table>\n",
              "</div>\n",
              "    <div class=\"colab-df-buttons\">\n",
              "\n",
              "  <div class=\"colab-df-container\">\n",
              "    <button class=\"colab-df-convert\" onclick=\"convertToInteractive('df-296e408f-3db8-4ef4-be09-e67e4726844c')\"\n",
              "            title=\"Convert this dataframe to an interactive table.\"\n",
              "            style=\"display:none;\">\n",
              "\n",
              "  <svg xmlns=\"http://www.w3.org/2000/svg\" height=\"24px\" viewBox=\"0 -960 960 960\">\n",
              "    <path d=\"M120-120v-720h720v720H120Zm60-500h600v-160H180v160Zm220 220h160v-160H400v160Zm0 220h160v-160H400v160ZM180-400h160v-160H180v160Zm440 0h160v-160H620v160ZM180-180h160v-160H180v160Zm440 0h160v-160H620v160Z\"/>\n",
              "  </svg>\n",
              "    </button>\n",
              "\n",
              "  <style>\n",
              "    .colab-df-container {\n",
              "      display:flex;\n",
              "      gap: 12px;\n",
              "    }\n",
              "\n",
              "    .colab-df-convert {\n",
              "      background-color: #E8F0FE;\n",
              "      border: none;\n",
              "      border-radius: 50%;\n",
              "      cursor: pointer;\n",
              "      display: none;\n",
              "      fill: #1967D2;\n",
              "      height: 32px;\n",
              "      padding: 0 0 0 0;\n",
              "      width: 32px;\n",
              "    }\n",
              "\n",
              "    .colab-df-convert:hover {\n",
              "      background-color: #E2EBFA;\n",
              "      box-shadow: 0px 1px 2px rgba(60, 64, 67, 0.3), 0px 1px 3px 1px rgba(60, 64, 67, 0.15);\n",
              "      fill: #174EA6;\n",
              "    }\n",
              "\n",
              "    .colab-df-buttons div {\n",
              "      margin-bottom: 4px;\n",
              "    }\n",
              "\n",
              "    [theme=dark] .colab-df-convert {\n",
              "      background-color: #3B4455;\n",
              "      fill: #D2E3FC;\n",
              "    }\n",
              "\n",
              "    [theme=dark] .colab-df-convert:hover {\n",
              "      background-color: #434B5C;\n",
              "      box-shadow: 0px 1px 3px 1px rgba(0, 0, 0, 0.15);\n",
              "      filter: drop-shadow(0px 1px 2px rgba(0, 0, 0, 0.3));\n",
              "      fill: #FFFFFF;\n",
              "    }\n",
              "  </style>\n",
              "\n",
              "    <script>\n",
              "      const buttonEl =\n",
              "        document.querySelector('#df-296e408f-3db8-4ef4-be09-e67e4726844c button.colab-df-convert');\n",
              "      buttonEl.style.display =\n",
              "        google.colab.kernel.accessAllowed ? 'block' : 'none';\n",
              "\n",
              "      async function convertToInteractive(key) {\n",
              "        const element = document.querySelector('#df-296e408f-3db8-4ef4-be09-e67e4726844c');\n",
              "        const dataTable =\n",
              "          await google.colab.kernel.invokeFunction('convertToInteractive',\n",
              "                                                    [key], {});\n",
              "        if (!dataTable) return;\n",
              "\n",
              "        const docLinkHtml = 'Like what you see? Visit the ' +\n",
              "          '<a target=\"_blank\" href=https://colab.research.google.com/notebooks/data_table.ipynb>data table notebook</a>'\n",
              "          + ' to learn more about interactive tables.';\n",
              "        element.innerHTML = '';\n",
              "        dataTable['output_type'] = 'display_data';\n",
              "        await google.colab.output.renderOutput(dataTable, element);\n",
              "        const docLink = document.createElement('div');\n",
              "        docLink.innerHTML = docLinkHtml;\n",
              "        element.appendChild(docLink);\n",
              "      }\n",
              "    </script>\n",
              "  </div>\n",
              "\n",
              "\n",
              "<div id=\"df-8e667ec2-4748-44c7-aae5-be30adb757d0\">\n",
              "  <button class=\"colab-df-quickchart\" onclick=\"quickchart('df-8e667ec2-4748-44c7-aae5-be30adb757d0')\"\n",
              "            title=\"Suggest charts\"\n",
              "            style=\"display:none;\">\n",
              "\n",
              "<svg xmlns=\"http://www.w3.org/2000/svg\" height=\"24px\"viewBox=\"0 0 24 24\"\n",
              "     width=\"24px\">\n",
              "    <g>\n",
              "        <path d=\"M19 3H5c-1.1 0-2 .9-2 2v14c0 1.1.9 2 2 2h14c1.1 0 2-.9 2-2V5c0-1.1-.9-2-2-2zM9 17H7v-7h2v7zm4 0h-2V7h2v10zm4 0h-2v-4h2v4z\"/>\n",
              "    </g>\n",
              "</svg>\n",
              "  </button>\n",
              "\n",
              "<style>\n",
              "  .colab-df-quickchart {\n",
              "      --bg-color: #E8F0FE;\n",
              "      --fill-color: #1967D2;\n",
              "      --hover-bg-color: #E2EBFA;\n",
              "      --hover-fill-color: #174EA6;\n",
              "      --disabled-fill-color: #AAA;\n",
              "      --disabled-bg-color: #DDD;\n",
              "  }\n",
              "\n",
              "  [theme=dark] .colab-df-quickchart {\n",
              "      --bg-color: #3B4455;\n",
              "      --fill-color: #D2E3FC;\n",
              "      --hover-bg-color: #434B5C;\n",
              "      --hover-fill-color: #FFFFFF;\n",
              "      --disabled-bg-color: #3B4455;\n",
              "      --disabled-fill-color: #666;\n",
              "  }\n",
              "\n",
              "  .colab-df-quickchart {\n",
              "    background-color: var(--bg-color);\n",
              "    border: none;\n",
              "    border-radius: 50%;\n",
              "    cursor: pointer;\n",
              "    display: none;\n",
              "    fill: var(--fill-color);\n",
              "    height: 32px;\n",
              "    padding: 0;\n",
              "    width: 32px;\n",
              "  }\n",
              "\n",
              "  .colab-df-quickchart:hover {\n",
              "    background-color: var(--hover-bg-color);\n",
              "    box-shadow: 0 1px 2px rgba(60, 64, 67, 0.3), 0 1px 3px 1px rgba(60, 64, 67, 0.15);\n",
              "    fill: var(--button-hover-fill-color);\n",
              "  }\n",
              "\n",
              "  .colab-df-quickchart-complete:disabled,\n",
              "  .colab-df-quickchart-complete:disabled:hover {\n",
              "    background-color: var(--disabled-bg-color);\n",
              "    fill: var(--disabled-fill-color);\n",
              "    box-shadow: none;\n",
              "  }\n",
              "\n",
              "  .colab-df-spinner {\n",
              "    border: 2px solid var(--fill-color);\n",
              "    border-color: transparent;\n",
              "    border-bottom-color: var(--fill-color);\n",
              "    animation:\n",
              "      spin 1s steps(1) infinite;\n",
              "  }\n",
              "\n",
              "  @keyframes spin {\n",
              "    0% {\n",
              "      border-color: transparent;\n",
              "      border-bottom-color: var(--fill-color);\n",
              "      border-left-color: var(--fill-color);\n",
              "    }\n",
              "    20% {\n",
              "      border-color: transparent;\n",
              "      border-left-color: var(--fill-color);\n",
              "      border-top-color: var(--fill-color);\n",
              "    }\n",
              "    30% {\n",
              "      border-color: transparent;\n",
              "      border-left-color: var(--fill-color);\n",
              "      border-top-color: var(--fill-color);\n",
              "      border-right-color: var(--fill-color);\n",
              "    }\n",
              "    40% {\n",
              "      border-color: transparent;\n",
              "      border-right-color: var(--fill-color);\n",
              "      border-top-color: var(--fill-color);\n",
              "    }\n",
              "    60% {\n",
              "      border-color: transparent;\n",
              "      border-right-color: var(--fill-color);\n",
              "    }\n",
              "    80% {\n",
              "      border-color: transparent;\n",
              "      border-right-color: var(--fill-color);\n",
              "      border-bottom-color: var(--fill-color);\n",
              "    }\n",
              "    90% {\n",
              "      border-color: transparent;\n",
              "      border-bottom-color: var(--fill-color);\n",
              "    }\n",
              "  }\n",
              "</style>\n",
              "\n",
              "  <script>\n",
              "    async function quickchart(key) {\n",
              "      const quickchartButtonEl =\n",
              "        document.querySelector('#' + key + ' button');\n",
              "      quickchartButtonEl.disabled = true;  // To prevent multiple clicks.\n",
              "      quickchartButtonEl.classList.add('colab-df-spinner');\n",
              "      try {\n",
              "        const charts = await google.colab.kernel.invokeFunction(\n",
              "            'suggestCharts', [key], {});\n",
              "      } catch (error) {\n",
              "        console.error('Error during call to suggestCharts:', error);\n",
              "      }\n",
              "      quickchartButtonEl.classList.remove('colab-df-spinner');\n",
              "      quickchartButtonEl.classList.add('colab-df-quickchart-complete');\n",
              "    }\n",
              "    (() => {\n",
              "      let quickchartButtonEl =\n",
              "        document.querySelector('#df-8e667ec2-4748-44c7-aae5-be30adb757d0 button');\n",
              "      quickchartButtonEl.style.display =\n",
              "        google.colab.kernel.accessAllowed ? 'block' : 'none';\n",
              "    })();\n",
              "  </script>\n",
              "</div>\n",
              "\n",
              "    </div>\n",
              "  </div>\n"
            ],
            "application/vnd.google.colaboratory.intrinsic+json": {
              "type": "dataframe",
              "variable_name": "dados",
              "summary": "{\n  \"name\": \"dados\",\n  \"rows\": 60,\n  \"fields\": [\n    {\n      \"column\": \"ID\",\n      \"properties\": {\n        \"dtype\": \"number\",\n        \"std\": 17,\n        \"min\": 1,\n        \"max\": 60,\n        \"num_unique_values\": 60,\n        \"samples\": [\n          1,\n          6,\n          37\n        ],\n        \"semantic_type\": \"\",\n        \"description\": \"\"\n      }\n    },\n    {\n      \"column\": \"Nome\",\n      \"properties\": {\n        \"dtype\": \"string\",\n        \"num_unique_values\": 60,\n        \"samples\": [\n          \"Pessoa_1\",\n          \"Pessoa_6\",\n          \"Pessoa_37\"\n        ],\n        \"semantic_type\": \"\",\n        \"description\": \"\"\n      }\n    },\n    {\n      \"column\": \"Idade\",\n      \"properties\": {\n        \"dtype\": \"number\",\n        \"std\": 13,\n        \"min\": 19,\n        \"max\": 64,\n        \"num_unique_values\": 36,\n        \"samples\": [\n          34,\n          39,\n          54\n        ],\n        \"semantic_type\": \"\",\n        \"description\": \"\"\n      }\n    },\n    {\n      \"column\": \"G\\u00eanero\",\n      \"properties\": {\n        \"dtype\": \"category\",\n        \"num_unique_values\": 3,\n        \"samples\": [\n          \"Feminino\",\n          \"Masculino\",\n          \"N\\u00e3o-Bin\\u00e1rio\"\n        ],\n        \"semantic_type\": \"\",\n        \"description\": \"\"\n      }\n    },\n    {\n      \"column\": \"Cidade\",\n      \"properties\": {\n        \"dtype\": \"category\",\n        \"num_unique_values\": 5,\n        \"samples\": [\n          \"Belo Horizonte\",\n          \"Rio de Janeiro\",\n          \"S\\u00e3o Paulo\"\n        ],\n        \"semantic_type\": \"\",\n        \"description\": \"\"\n      }\n    },\n    {\n      \"column\": \"Renda Mensal\",\n      \"properties\": {\n        \"dtype\": \"number\",\n        \"std\": 2486,\n        \"min\": 1697,\n        \"max\": 9838,\n        \"num_unique_values\": 60,\n        \"samples\": [\n          2163,\n          5263,\n          1697\n        ],\n        \"semantic_type\": \"\",\n        \"description\": \"\"\n      }\n    },\n    {\n      \"column\": \"N\\u00famero de Compras Online\",\n      \"properties\": {\n        \"dtype\": \"number\",\n        \"std\": 9,\n        \"min\": 0,\n        \"max\": 29,\n        \"num_unique_values\": 27,\n        \"samples\": [\n          15,\n          0,\n          25\n        ],\n        \"semantic_type\": \"\",\n        \"description\": \"\"\n      }\n    },\n    {\n      \"column\": \"Satisfa\\u00e7\\u00e3o do Cliente (1-10)\",\n      \"properties\": {\n        \"dtype\": \"number\",\n        \"std\": 2,\n        \"min\": 1,\n        \"max\": 10,\n        \"num_unique_values\": 10,\n        \"samples\": [\n          2,\n          4,\n          7\n        ],\n        \"semantic_type\": \"\",\n        \"description\": \"\"\n      }\n    }\n  ]\n}"
            }
          },
          "metadata": {},
          "execution_count": 30
        }
      ]
    },
    {
      "cell_type": "code",
      "source": [
        "# Análise básica\n",
        "print(\"\\nEstatísticas descritivas dos dados:\")\n",
        "print(dados.describe())  # Exibe estatísticas como média, desvio padrão, etc.\n",
        "\n"
      ],
      "metadata": {
        "colab": {
          "base_uri": "https://localhost:8080/"
        },
        "id": "3IZPq10i59CW",
        "outputId": "1e03dc45-ff6d-42ad-b421-b26c97e859ab"
      },
      "id": "3IZPq10i59CW",
      "execution_count": null,
      "outputs": [
        {
          "output_type": "stream",
          "name": "stdout",
          "text": [
            "\n",
            "Estatísticas descritivas dos dados:\n",
            "              ID     Idade  Renda Mensal  Número de Compras Online  \\\n",
            "count  60.000000  60.00000     60.000000                 60.000000   \n",
            "mean   30.500000  41.00000   5712.333333                 14.850000   \n",
            "std    17.464249  13.72243   2486.147804                  9.172222   \n",
            "min     1.000000  19.00000   1697.000000                  0.000000   \n",
            "25%    15.750000  30.50000   3451.750000                  6.750000   \n",
            "50%    30.500000  40.50000   5490.500000                 15.500000   \n",
            "75%    45.250000  53.25000   8032.500000                 23.000000   \n",
            "max    60.000000  64.00000   9838.000000                 29.000000   \n",
            "\n",
            "       Satisfação do Cliente (1-10)  \n",
            "count                     60.000000  \n",
            "mean                       4.700000  \n",
            "std                        2.757424  \n",
            "min                        1.000000  \n",
            "25%                        2.750000  \n",
            "50%                        5.000000  \n",
            "75%                        7.000000  \n",
            "max                       10.000000  \n"
          ]
        }
      ]
    },
    {
      "cell_type": "code",
      "source": [
        "# Exemplo de análise - Média da Renda Mensal\n",
        "media_renda = dados['Renda Mensal'].mean()\n",
        "print(f\"\\nMédia da Renda Mensal: {media_renda}\")\n",
        "\n"
      ],
      "metadata": {
        "colab": {
          "base_uri": "https://localhost:8080/"
        },
        "id": "zzVcVAFl6Hdd",
        "outputId": "bdf402d7-515c-4947-ffe1-78bdfbcc2231"
      },
      "id": "zzVcVAFl6Hdd",
      "execution_count": null,
      "outputs": [
        {
          "output_type": "stream",
          "name": "stdout",
          "text": [
            "\n",
            "Média da Renda Mensal: 5712.333333333333\n"
          ]
        }
      ]
    },
    {
      "cell_type": "code",
      "source": [
        "# Média de Idade\n",
        "media_idade = dados['Idade'].mean()\n",
        "print(f\"\\nMédia de Idade: {media_idade:.1f} anos\")"
      ],
      "metadata": {
        "colab": {
          "base_uri": "https://localhost:8080/"
        },
        "id": "xvBrxz0w9os1",
        "outputId": "4a92b5c4-dc8a-40ea-cc1a-e259e4433e87"
      },
      "id": "xvBrxz0w9os1",
      "execution_count": null,
      "outputs": [
        {
          "output_type": "stream",
          "name": "stdout",
          "text": [
            "\n",
            "Média de Idade: 41.0 anos\n"
          ]
        }
      ]
    },
    {
      "cell_type": "code",
      "source": [
        "# Média de Compras Online\n",
        "media_compras = dados['Número de Compras Online'].mean()\n",
        "print(f\"Média de Compras Online: {media_compras:.1f} compras\")"
      ],
      "metadata": {
        "colab": {
          "base_uri": "https://localhost:8080/"
        },
        "id": "mc6_A1g79yDv",
        "outputId": "bf83b47a-3959-4c85-a669-70b401c48201"
      },
      "id": "mc6_A1g79yDv",
      "execution_count": null,
      "outputs": [
        {
          "output_type": "stream",
          "name": "stdout",
          "text": [
            "Média de Compras Online: 14.8 compras\n"
          ]
        }
      ]
    },
    {
      "cell_type": "code",
      "source": [
        "# Média de Satisfação\n",
        "media_satisfacao = dados['Satisfação do Cliente (1-10)'].mean()\n",
        "print(f\"Média de Satisfação: {media_satisfacao:.1f}/10\")"
      ],
      "metadata": {
        "colab": {
          "base_uri": "https://localhost:8080/"
        },
        "id": "-3XFuZl9989l",
        "outputId": "78c5954c-a6ef-43a1-faa8-325d95b341f7"
      },
      "id": "-3XFuZl9989l",
      "execution_count": null,
      "outputs": [
        {
          "output_type": "stream",
          "name": "stdout",
          "text": [
            "Média de Satisfação: 4.7/10\n"
          ]
        }
      ]
    },
    {
      "cell_type": "code",
      "source": [
        "# Exemplo de visualização - Gráfico de dispersão entre Renda Mensal e Número de Compras Online\n",
        "plt.scatter(dados['Renda Mensal'], dados['Número de Compras Online'])\n",
        "plt.title('Renda Mensal vs Número de Compras Online')\n",
        "plt.xlabel('Renda Mensal')\n",
        "plt.ylabel('Número de Compras Online')\n",
        "plt.show()\n",
        "\n"
      ],
      "metadata": {
        "colab": {
          "base_uri": "https://localhost:8080/",
          "height": 472
        },
        "id": "iksOABUI6M4T",
        "outputId": "80ecf023-d04f-40d6-967c-0f04e7da9388"
      },
      "id": "iksOABUI6M4T",
      "execution_count": null,
      "outputs": [
        {
          "output_type": "display_data",
          "data": {
            "text/plain": [
              "<Figure size 640x480 with 1 Axes>"
            ],
            "image/png": "[encoded data removed]"
          },
          "metadata": {}
        }
      ]
    },
    {
      "cell_type": "code",
      "source": [
        "# Gráfico de Barras - Média de Satisfação por Gênero\n",
        "media_satisfacao = dados.groupby('Gênero')['Satisfação do Cliente (1-10)'].mean()\n",
        "\n",
        "plt.bar(media_satisfacao.index, media_satisfacao.values)\n",
        "plt.title('Média de Satisfação por Gênero')\n",
        "plt.xlabel('Gênero')\n",
        "plt.ylabel('Média de Satisfação (1-10)')\n",
        "plt.show()"
      ],
      "metadata": {
        "colab": {
          "base_uri": "https://localhost:8080/",
          "height": 472
        },
        "id": "ym8FhTEL_z_K",
        "outputId": "226f2ac2-0a41-4149-df78-bca6755a36bb"
      },
      "id": "ym8FhTEL_z_K",
      "execution_count": null,
      "outputs": [
        {
          "output_type": "display_data",
          "data": {
            "text/plain": [
              "<Figure size 640x480 with 1 Axes>"
            ],
            "image/png": "[encoded data removed]"
          },
          "metadata": {}
        }
      ]
    },
    {
      "cell_type": "code",
      "source": [
        "# Exemplo de análise - Correlação entre variáveis\n",
        "correlacao = dados[['Renda Mensal', 'Número de Compras Online']].corr()\n",
        "print(\"\\nCorrelação entre Renda Mensal e Número de Compras Online:\")\n",
        "print(correlacao)\n",
        "\n",
        "\n"
      ],
      "metadata": {
        "colab": {
          "base_uri": "https://localhost:8080/"
        },
        "id": "ydMkzs636QiM",
        "outputId": "c26c9b1b-41dc-4e87-e453-e04831fb4d54"
      },
      "id": "ydMkzs636QiM",
      "execution_count": null,
      "outputs": [
        {
          "output_type": "stream",
          "name": "stdout",
          "text": [
            "\n",
            "Correlação entre Renda Mensal e Número de Compras Online:\n",
            "                          Renda Mensal  Número de Compras Online\n",
            "Renda Mensal                  1.000000                 -0.077746\n",
            "Número de Compras Online     -0.077746                  1.000000\n"
          ]
        }
      ]
    },
    {
      "cell_type": "code",
      "source": [
        "# 2. Correlação\n",
        "correlacao = dados['Renda Mensal'].corr(dados['Número de Compras Online'])\n",
        "print(f\"\\nCorrelação Renda x Compras: {correlacao:.2f}\")"
      ],
      "metadata": {
        "colab": {
          "base_uri": "https://localhost:8080/"
        },
        "id": "NZ0hwVIG-eSa",
        "outputId": "63ee88cc-f298-4cb8-812c-d891aefdec55"
      },
      "id": "NZ0hwVIG-eSa",
      "execution_count": null,
      "outputs": [
        {
          "output_type": "stream",
          "name": "stdout",
          "text": [
            "\n",
            "Correlação Renda x Compras: -0.08\n"
          ]
        }
      ]
    },
    {
      "cell_type": "code",
      "source": [
        "# Filtragem de dados - Exemplo de seleção de dados com base em uma condição (Renda Mensal > 5000)\n",
        "dados_filtrados = dados[dados['Renda Mensal'] > 5000]\n",
        "print(\"\\nDados filtrados (Renda Mensal > 5000):\")\n",
        "print(dados_filtrados)\n",
        "\n"
      ],
      "metadata": {
        "colab": {
          "base_uri": "https://localhost:8080/"
        },
        "id": "D9jZpUQp6SML",
        "outputId": "67f7edd3-19cc-42fa-dfc3-1e82b5cefe8d"
      },
      "id": "D9jZpUQp6SML",
      "execution_count": null,
      "outputs": [
        {
          "output_type": "stream",
          "name": "stdout",
          "text": [
            "\n",
            "Dados filtrados (Renda Mensal > 5000):\n",
            "    ID       Nome  Idade       Gênero          Cidade  Renda Mensal  \\\n",
            "2    3   Pessoa_3     32     Feminino  Belo Horizonte          9494   \n",
            "5    6   Pessoa_6     38     Feminino        Salvador          5263   \n",
            "6    7   Pessoa_7     56     Feminino  Belo Horizonte          6732   \n",
            "8    9   Pessoa_9     40  Não-Binário        Salvador          8085   \n",
            "10  11  Pessoa_11     28     Feminino  Belo Horizonte          5081   \n",
            "11  12  Pessoa_12     41     Feminino       São Paulo          9054   \n",
            "12  13  Pessoa_13     53     Feminino  Rio de Janeiro          8780   \n",
            "14  15  Pessoa_15     41     Feminino        Curitiba          5196   \n",
            "16  17  Pessoa_17     39  Não-Binário  Belo Horizonte          6237   \n",
            "18  19  Pessoa_19     41  Não-Binário        Curitiba          9664   \n",
            "19  20  Pessoa_20     61    Masculino        Salvador          7355   \n",
            "20  21  Pessoa_21     47     Feminino        Curitiba          8892   \n",
            "21  22  Pessoa_22     55    Masculino        Salvador          8028   \n",
            "22  23  Pessoa_23     19    Masculino        Salvador          6749   \n",
            "23  24  Pessoa_24     38     Feminino  Belo Horizonte          6672   \n",
            "25  26  Pessoa_26     29    Masculino        Curitiba          7291   \n",
            "26  27  Pessoa_27     39     Feminino        Salvador          7035   \n",
            "27  28  Pessoa_28     61    Masculino  Belo Horizonte          6431   \n",
            "28  29  Pessoa_29     42    Masculino  Belo Horizonte          5010   \n",
            "30  31  Pessoa_31     59    Masculino  Rio de Janeiro          5718   \n",
            "31  32  Pessoa_32     45  Não-Binário  Rio de Janeiro          5889   \n",
            "33  34  Pessoa_34     32    Masculino       São Paulo          9504   \n",
            "35  36  Pessoa_36     61  Não-Binário        Curitiba          9277   \n",
            "37  38  Pessoa_38     54    Masculino        Curitiba          8625   \n",
            "39  40  Pessoa_40     38  Não-Binário        Curitiba          7787   \n",
            "40  41  Pessoa_41     26  Não-Binário  Belo Horizonte          5782   \n",
            "44  45  Pessoa_45     42    Masculino       São Paulo          8598   \n",
            "45  46  Pessoa_46     31  Não-Binário       São Paulo          8046   \n",
            "47  48  Pessoa_48     43     Feminino  Belo Horizonte          9838   \n",
            "53  54  Pessoa_54     61     Feminino  Belo Horizonte          7259   \n",
            "54  55  Pessoa_55     25    Masculino       São Paulo          8194   \n",
            "56  57  Pessoa_57     52  Não-Binário       São Paulo          6236   \n",
            "58  59  Pessoa_59     34    Masculino  Rio de Janeiro          9655   \n",
            "59  60  Pessoa_60     53  Não-Binário        Curitiba          9620   \n",
            "\n",
            "    Número de Compras Online  Satisfação do Cliente (1-10)  \n",
            "2                         22                             1  \n",
            "5                          2                             5  \n",
            "6                          6                             4  \n",
            "8                         15                             8  \n",
            "10                        15                             3  \n",
            "11                        24                             1  \n",
            "12                        19                             1  \n",
            "14                        16                             6  \n",
            "16                         0                             6  \n",
            "18                        29                             6  \n",
            "19                        11                             3  \n",
            "20                         4                             6  \n",
            "21                         4                             8  \n",
            "22                        26                             2  \n",
            "23                        22                             5  \n",
            "25                         8                             1  \n",
            "26                         2                             5  \n",
            "27                        18                             3  \n",
            "28                        15                             4  \n",
            "30                         2                             1  \n",
            "31                        19                             1  \n",
            "33                        21                             6  \n",
            "35                         0                             9  \n",
            "37                        19                             8  \n",
            "39                        16                             5  \n",
            "40                         7                             3  \n",
            "44                        19                             7  \n",
            "45                        29                             1  \n",
            "47                        15                             2  \n",
            "53                        17                             8  \n",
            "54                        13                             8  \n",
            "56                         1                             6  \n",
            "58                         2                             2  \n",
            "59                        15                            10  \n"
          ]
        }
      ]
    },
    {
      "cell_type": "code",
      "source": [
        "# Análise por Gênero\n",
        "print(\"\\nMédias por Gênero:\")\n",
        "for genero in dados['Gênero'].unique():\n",
        "    subset = dados[dados['Gênero'] == genero]\n",
        "    print(f\"\\n{genero}:\")\n",
        "    print(f\"- Média Renda: R$ {subset['Renda Mensal'].mean():.2f}\")\n",
        "    print(f\"- Média Compras: {subset['Número de Compras Online'].mean():.1f}\")\n",
        "    print(f\"- Média Satisfação: {subset['Satisfação do Cliente (1-10)'].mean():.1f}/10\")\n"
      ],
      "metadata": {
        "colab": {
          "base_uri": "https://localhost:8080/"
        },
        "id": "nV-m2566-2On",
        "outputId": "0b125003-7e53-48ac-bcd6-c8686c084128"
      },
      "id": "nV-m2566-2On",
      "execution_count": null,
      "outputs": [
        {
          "output_type": "stream",
          "name": "stdout",
          "text": [
            "\n",
            "Médias por Gênero:\n",
            "\n",
            "Feminino:\n",
            "- Média Renda: R$ 5598.71\n",
            "- Média Compras: 16.9\n",
            "- Média Satisfação: 4.7/10\n",
            "\n",
            "Masculino:\n",
            "- Média Renda: R$ 5736.52\n",
            "- Média Compras: 14.5\n",
            "- Média Satisfação: 4.3/10\n",
            "\n",
            "Não-Binário:\n",
            "- Média Renda: R$ 5816.67\n",
            "- Média Compras: 12.9\n",
            "- Média Satisfação: 5.2/10\n"
          ]
        }
      ]
    },
    {
      "cell_type": "code",
      "source": [
        "# Filtro de clientes com mais de 30 anos e menos de 5 compras online\n",
        "clientes_filtrados = dados[(dados['Idade'] > 30) & (dados['Número de Compras Online'] < 5)]\n",
        "\n",
        "print(\"\\nClientes com mais de 30 anos e menos de 5 compras online:\")\n",
        "print(clientes_filtrados[['ID', 'Nome', 'Idade', 'Número de Compras Online']].to_string(index=False))\n",
        "print(\"\\nTotal encontrado:\", len(clientes_filtrados))"
      ],
      "metadata": {
        "colab": {
          "base_uri": "https://localhost:8080/"
        },
        "id": "9PmOnXEEAGJV",
        "outputId": "c9021cef-648c-4e1a-c1eb-a889c5efb983"
      },
      "id": "9PmOnXEEAGJV",
      "execution_count": null,
      "outputs": [
        {
          "output_type": "stream",
          "name": "stdout",
          "text": [
            "\n",
            "Clientes com mais de 30 anos e menos de 5 compras online:\n",
            " ID      Nome  Idade  Número de Compras Online\n",
            "  6  Pessoa_6     38                         2\n",
            " 17 Pessoa_17     39                         0\n",
            " 21 Pessoa_21     47                         4\n",
            " 22 Pessoa_22     55                         4\n",
            " 27 Pessoa_27     39                         2\n",
            " 31 Pessoa_31     59                         2\n",
            " 36 Pessoa_36     61                         0\n",
            " 42 Pessoa_42     56                         3\n",
            " 51 Pessoa_51     45                         2\n",
            " 57 Pessoa_57     52                         1\n",
            " 59 Pessoa_59     34                         2\n",
            "\n",
            "Total encontrado: 11\n"
          ]
        }
      ]
    },
    {
      "cell_type": "code",
      "source": [
        "# Cálculo IQR\n",
        "Q1 = dados['Renda Mensal'].quantile(0.25)\n",
        "Q3 = dados['Renda Mensal'].quantile(0.75)\n",
        "IQR = Q3 - Q1\n",
        "limite_superior = Q3 + 1.5 * IQR\n",
        "\n",
        "# Análise\n",
        "print(\"\\n6. Análise de Outliers na Renda Mensal\")\n",
        "print(f\"Limite superior (IQR): R$ {limite_superior:.2f}\")\n",
        "print(\"\\nDistribuição de Renda:\")\n",
        "print(dados['Renda Mensal'].describe().to_string())\n",
        "print(\"\\nOutliers identificados: 0 (Nenhum valor acima do limite superior)\")"
      ],
      "metadata": {
        "colab": {
          "base_uri": "https://localhost:8080/"
        },
        "id": "LhlANVaNA_Lm",
        "outputId": "3cc01135-af89-4627-9e3f-b7822a5c89c3"
      },
      "id": "LhlANVaNA_Lm",
      "execution_count": null,
      "outputs": [
        {
          "output_type": "stream",
          "name": "stdout",
          "text": [
            "\n",
            "6. Análise de Outliers na Renda Mensal\n",
            "Limite superior (IQR): R$ 14903.62\n",
            "\n",
            "Distribuição de Renda:\n",
            "count      60.000000\n",
            "mean     5712.333333\n",
            "std      2486.147804\n",
            "min      1697.000000\n",
            "25%      3451.750000\n",
            "50%      5490.500000\n",
            "75%      8032.500000\n",
            "max      9838.000000\n",
            "\n",
            "Outliers identificados: 0 (Nenhum valor acima do limite superior)\n"
          ]
        }
      ]
    },
    {
      "cell_type": "code",
      "source": [
        "plt.figure(figsize=(6,4))\n",
        "dados.boxplot(column='Renda Mensal', vert=False)\n",
        "plt.title('Distribuição da Renda Mensal')\n",
        "plt.show()"
      ],
      "metadata": {
        "colab": {
          "base_uri": "https://localhost:8080/",
          "height": 391
        },
        "id": "QPjNkzjsBaze",
        "outputId": "4bcde515-bef0-4567-db22-37deaccb961b"
      },
      "id": "QPjNkzjsBaze",
      "execution_count": null,
      "outputs": [
        {
          "output_type": "display_data",
          "data": {
            "text/plain": [
              "<Figure size 600x400 with 1 Axes>"
            ],
            "image/png": "[encoded data removed]"
          },
          "metadata": {}
        }
      ]
    },
    {
      "cell_type": "code",
      "source": [
        "# Salvar o relatório com os resultados da análise em um arquivo de texto\n",
        "with open('relatorio_analise.txt', 'w') as file:\n",
        "    file.write(f\"Média da Renda Mensal: {media_renda}\\n\")\n",
        "    file.write(\"Correlação entre Renda Mensal e Número de Compras Online:\\n\")\n",
        "    file.write(f\"{correlacao}\\n\")\n",
        "    file.write(f\"Dados filtrados (Renda Mensal > 5000):\\n{dados_filtrados}\\n\")\n",
        "\n",
        "print(\"\\nRelatório salvo como 'relatorio_analise.txt'.\")"
      ],
      "metadata": {
        "colab": {
          "base_uri": "https://localhost:8080/"
        },
        "id": "fHbj7zBq6Uk-",
        "outputId": "70d4d1c5-4994-4011-b2de-5fb17f9c96a4"
      },
      "id": "fHbj7zBq6Uk-",
      "execution_count": null,
      "outputs": [
        {
          "output_type": "stream",
          "name": "stdout",
          "text": [
            "\n",
            "Relatório salvo como 'relatorio_analise.txt'.\n"
          ]
        }
      ]
    }
  ],
  "metadata": {
    "kernelspec": {
      "display_name": "Python 3 (ipykernel)",
      "language": "python",
      "name": "python3"
    },
    "language_info": {
      "codemirror_mode": {
        "name": "ipython",
        "version": 3
      },
      "file_extension": ".py",
      "mimetype": "text/x-python",
      "name": "python",
      "nbconvert_exporter": "python",
      "pygments_lexer": "ipython3",
      "version": "3.12.7"
    },
    "colab": {
      "provenance": [],
      "include_colab_link": true
    }
  },
  "nbformat": 4,
  "nbformat_minor": 5
}